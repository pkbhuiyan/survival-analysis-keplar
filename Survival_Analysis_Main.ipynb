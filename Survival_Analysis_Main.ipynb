{
 "cells": [
  {
   "cell_type": "code",
   "execution_count": 2,
   "metadata": {},
   "outputs": [],
   "source": [
    "%matplotlib inline\n",
    "\n",
    "import pandas as pd\n",
    "import numpy as np\n",
    "import matplotlib.pyplot as plt\n",
    "import seaborn as sns\n",
    "from lifelines import KaplanMeierFitter\n",
    "\n",
    "draft_df = pd.read_csv(\"main-big-2017-s-clean.csv\")\n",
    "# draft_df.drop(['Unnamed: 0'], axis = 1, inplace = True)\n",
    "# set some plotting aesthetics, similar to ggplot\n",
    "# sns.set(palette = \"colorblind\", font_scale = 1.35, \n",
    "#         rc = {\"figure.figsize\": (12,9), \"axes.facecolor\": \".92\"})\n",
    "# draft_dfs=draft_df.head(10000)\n",
    "# draft_df[('duration','retired')]"
   ]
  },
  {
   "cell_type": "code",
   "execution_count": 312,
   "metadata": {},
   "outputs": [
    {
     "data": {
      "text/plain": [
       "<lifelines.KaplanMeierFitter: fitted with 2797 observations, 215 censored>"
      ]
     },
     "execution_count": 312,
     "metadata": {},
     "output_type": "execute_result"
    }
   ],
   "source": [
    "# keplar object\n",
    "kmf = KaplanMeierFitter()\n",
    "kmf.fit(durations = draft_dfs.duration, event_observed = draft_dfs.retired)"
   ]
  },
  {
   "cell_type": "code",
   "execution_count": 313,
   "metadata": {},
   "outputs": [
    {
     "data": {
      "text/html": [
       "<div>\n",
       "<style scoped>\n",
       "    .dataframe tbody tr th:only-of-type {\n",
       "        vertical-align: middle;\n",
       "    }\n",
       "\n",
       "    .dataframe tbody tr th {\n",
       "        vertical-align: top;\n",
       "    }\n",
       "\n",
       "    .dataframe thead th {\n",
       "        text-align: right;\n",
       "    }\n",
       "</style>\n",
       "<table border=\"1\" class=\"dataframe\">\n",
       "  <thead>\n",
       "    <tr style=\"text-align: right;\">\n",
       "      <th></th>\n",
       "      <th>removed</th>\n",
       "      <th>observed</th>\n",
       "      <th>censored</th>\n",
       "      <th>entrance</th>\n",
       "      <th>at_risk</th>\n",
       "    </tr>\n",
       "    <tr>\n",
       "      <th>event_at</th>\n",
       "      <th></th>\n",
       "      <th></th>\n",
       "      <th></th>\n",
       "      <th></th>\n",
       "      <th></th>\n",
       "    </tr>\n",
       "  </thead>\n",
       "  <tbody>\n",
       "    <tr>\n",
       "      <th>0</th>\n",
       "      <td>215</td>\n",
       "      <td>0</td>\n",
       "      <td>215</td>\n",
       "      <td>2797</td>\n",
       "      <td>2797</td>\n",
       "    </tr>\n",
       "    <tr>\n",
       "      <th>1</th>\n",
       "      <td>408</td>\n",
       "      <td>408</td>\n",
       "      <td>0</td>\n",
       "      <td>0</td>\n",
       "      <td>2582</td>\n",
       "    </tr>\n",
       "    <tr>\n",
       "      <th>2</th>\n",
       "      <td>409</td>\n",
       "      <td>409</td>\n",
       "      <td>0</td>\n",
       "      <td>0</td>\n",
       "      <td>2174</td>\n",
       "    </tr>\n",
       "    <tr>\n",
       "      <th>3</th>\n",
       "      <td>401</td>\n",
       "      <td>401</td>\n",
       "      <td>0</td>\n",
       "      <td>0</td>\n",
       "      <td>1765</td>\n",
       "    </tr>\n",
       "    <tr>\n",
       "      <th>4</th>\n",
       "      <td>378</td>\n",
       "      <td>378</td>\n",
       "      <td>0</td>\n",
       "      <td>0</td>\n",
       "      <td>1364</td>\n",
       "    </tr>\n",
       "    <tr>\n",
       "      <th>5</th>\n",
       "      <td>283</td>\n",
       "      <td>283</td>\n",
       "      <td>0</td>\n",
       "      <td>0</td>\n",
       "      <td>986</td>\n",
       "    </tr>\n",
       "    <tr>\n",
       "      <th>6</th>\n",
       "      <td>218</td>\n",
       "      <td>218</td>\n",
       "      <td>0</td>\n",
       "      <td>0</td>\n",
       "      <td>703</td>\n",
       "    </tr>\n",
       "    <tr>\n",
       "      <th>7</th>\n",
       "      <td>189</td>\n",
       "      <td>189</td>\n",
       "      <td>0</td>\n",
       "      <td>0</td>\n",
       "      <td>485</td>\n",
       "    </tr>\n",
       "    <tr>\n",
       "      <th>8</th>\n",
       "      <td>139</td>\n",
       "      <td>139</td>\n",
       "      <td>0</td>\n",
       "      <td>0</td>\n",
       "      <td>296</td>\n",
       "    </tr>\n",
       "    <tr>\n",
       "      <th>9</th>\n",
       "      <td>89</td>\n",
       "      <td>89</td>\n",
       "      <td>0</td>\n",
       "      <td>0</td>\n",
       "      <td>157</td>\n",
       "    </tr>\n",
       "    <tr>\n",
       "      <th>10</th>\n",
       "      <td>38</td>\n",
       "      <td>38</td>\n",
       "      <td>0</td>\n",
       "      <td>0</td>\n",
       "      <td>68</td>\n",
       "    </tr>\n",
       "    <tr>\n",
       "      <th>11</th>\n",
       "      <td>30</td>\n",
       "      <td>30</td>\n",
       "      <td>0</td>\n",
       "      <td>0</td>\n",
       "      <td>30</td>\n",
       "    </tr>\n",
       "  </tbody>\n",
       "</table>\n",
       "</div>"
      ],
      "text/plain": [
       "          removed  observed  censored  entrance  at_risk\n",
       "event_at                                                \n",
       "0             215         0       215      2797     2797\n",
       "1             408       408         0         0     2582\n",
       "2             409       409         0         0     2174\n",
       "3             401       401         0         0     1765\n",
       "4             378       378         0         0     1364\n",
       "5             283       283         0         0      986\n",
       "6             218       218         0         0      703\n",
       "7             189       189         0         0      485\n",
       "8             139       139         0         0      296\n",
       "9              89        89         0         0      157\n",
       "10             38        38         0         0       68\n",
       "11             30        30         0         0       30"
      ]
     },
     "execution_count": 313,
     "metadata": {},
     "output_type": "execute_result"
    }
   ],
   "source": [
    "kmf.event_table"
   ]
  },
  {
   "cell_type": "code",
   "execution_count": 314,
   "metadata": {},
   "outputs": [
    {
     "data": {
      "text/plain": [
       "1.0"
      ]
     },
     "execution_count": 314,
     "metadata": {},
     "output_type": "execute_result"
    }
   ],
   "source": [
    "# get the values for time = 0 from the survival table\n",
    "event_at_0 = kmf.event_table.iloc[0, :]\n",
    "# now calculate the survival probability for t = 0\n",
    "surv_for_0 =  (event_at_0.at_risk - event_at_0.observed) / event_at_0.at_risk\n",
    "surv_for_0"
   ]
  },
  {
   "cell_type": "code",
   "execution_count": 315,
   "metadata": {},
   "outputs": [
    {
     "data": {
      "text/plain": [
       "0.8419829589465531"
      ]
     },
     "execution_count": 315,
     "metadata": {},
     "output_type": "execute_result"
    }
   ],
   "source": [
    "# Calculate the survival probability for t = 1\n",
    "event_at_1 = kmf.event_table.iloc[1, :]\n",
    "surv_for_1 =  (event_at_1.at_risk - event_at_1.observed) / event_at_1.at_risk\n",
    "surv_for_1"
   ]
  },
  {
   "cell_type": "code",
   "execution_count": 316,
   "metadata": {},
   "outputs": [
    {
     "data": {
      "text/plain": [
       "0.8118675252989881"
      ]
     },
     "execution_count": 316,
     "metadata": {},
     "output_type": "execute_result"
    }
   ],
   "source": [
    "# Calculate the survival probability for t = 2\n",
    "event_at_2 = kmf.event_table.iloc[2, :]\n",
    "surv_for_2 =  (event_at_2.at_risk - event_at_2.observed) / event_at_2.at_risk\n",
    "surv_for_2"
   ]
  },
  {
   "cell_type": "code",
   "execution_count": 317,
   "metadata": {},
   "outputs": [
    {
     "data": {
      "text/plain": [
       "0.6835786212238575"
      ]
     },
     "execution_count": 317,
     "metadata": {},
     "output_type": "execute_result"
    }
   ],
   "source": [
    "# The probability that an NFL player has a career longer than 2 years\n",
    "surv_after_2 = surv_for_0 * surv_for_1 * surv_for_2\n",
    "surv_after_2"
   ]
  },
  {
   "cell_type": "code",
   "execution_count": 318,
   "metadata": {},
   "outputs": [
    {
     "data": {
      "text/plain": [
       "0.6835786212238574"
      ]
     },
     "execution_count": 318,
     "metadata": {},
     "output_type": "execute_result"
    }
   ],
   "source": [
    "kmf.predict(2)"
   ]
  },
  {
   "cell_type": "code",
   "execution_count": 319,
   "metadata": {},
   "outputs": [
    {
     "data": {
      "text/plain": [
       "1     0.841983\n",
       "3     0.528273\n",
       "5     0.272270\n",
       "10    0.011619\n",
       "Name: KM_estimate, dtype: float64"
      ]
     },
     "execution_count": 319,
     "metadata": {},
     "output_type": "execute_result"
    }
   ],
   "source": [
    "kmf.predict([1,3,5,10])"
   ]
  },
  {
   "cell_type": "code",
   "execution_count": 320,
   "metadata": {},
   "outputs": [
    {
     "data": {
      "text/html": [
       "<div>\n",
       "<style scoped>\n",
       "    .dataframe tbody tr th:only-of-type {\n",
       "        vertical-align: middle;\n",
       "    }\n",
       "\n",
       "    .dataframe tbody tr th {\n",
       "        vertical-align: top;\n",
       "    }\n",
       "\n",
       "    .dataframe thead th {\n",
       "        text-align: right;\n",
       "    }\n",
       "</style>\n",
       "<table border=\"1\" class=\"dataframe\">\n",
       "  <thead>\n",
       "    <tr style=\"text-align: right;\">\n",
       "      <th></th>\n",
       "      <th>KM_estimate</th>\n",
       "    </tr>\n",
       "    <tr>\n",
       "      <th>timeline</th>\n",
       "      <th></th>\n",
       "    </tr>\n",
       "  </thead>\n",
       "  <tbody>\n",
       "    <tr>\n",
       "      <th>0.0</th>\n",
       "      <td>1.000000</td>\n",
       "    </tr>\n",
       "    <tr>\n",
       "      <th>1.0</th>\n",
       "      <td>0.841983</td>\n",
       "    </tr>\n",
       "    <tr>\n",
       "      <th>2.0</th>\n",
       "      <td>0.683579</td>\n",
       "    </tr>\n",
       "    <tr>\n",
       "      <th>3.0</th>\n",
       "      <td>0.528273</td>\n",
       "    </tr>\n",
       "    <tr>\n",
       "      <th>4.0</th>\n",
       "      <td>0.381875</td>\n",
       "    </tr>\n",
       "    <tr>\n",
       "      <th>5.0</th>\n",
       "      <td>0.272270</td>\n",
       "    </tr>\n",
       "    <tr>\n",
       "      <th>6.0</th>\n",
       "      <td>0.187839</td>\n",
       "    </tr>\n",
       "    <tr>\n",
       "      <th>7.0</th>\n",
       "      <td>0.114640</td>\n",
       "    </tr>\n",
       "    <tr>\n",
       "      <th>8.0</th>\n",
       "      <td>0.060806</td>\n",
       "    </tr>\n",
       "    <tr>\n",
       "      <th>9.0</th>\n",
       "      <td>0.026336</td>\n",
       "    </tr>\n",
       "    <tr>\n",
       "      <th>10.0</th>\n",
       "      <td>0.011619</td>\n",
       "    </tr>\n",
       "    <tr>\n",
       "      <th>11.0</th>\n",
       "      <td>0.000000</td>\n",
       "    </tr>\n",
       "  </tbody>\n",
       "</table>\n",
       "</div>"
      ],
      "text/plain": [
       "          KM_estimate\n",
       "timeline             \n",
       "0.0          1.000000\n",
       "1.0          0.841983\n",
       "2.0          0.683579\n",
       "3.0          0.528273\n",
       "4.0          0.381875\n",
       "5.0          0.272270\n",
       "6.0          0.187839\n",
       "7.0          0.114640\n",
       "8.0          0.060806\n",
       "9.0          0.026336\n",
       "10.0         0.011619\n",
       "11.0         0.000000"
      ]
     },
     "execution_count": 320,
     "metadata": {},
     "output_type": "execute_result"
    }
   ],
   "source": [
    "kmf.survival_function_"
   ]
  },
  {
   "cell_type": "code",
   "execution_count": 345,
   "metadata": {},
   "outputs": [
    {
     "data": {
      "text/plain": [
       "4.0"
      ]
     },
     "execution_count": 345,
     "metadata": {},
     "output_type": "execute_result"
    }
   ],
   "source": [
    "kmf.median_"
   ]
  },
  {
   "cell_type": "code",
   "execution_count": 360,
   "metadata": {},
   "outputs": [
    {
     "data": {
      "image/png": "[encoded data removed]",
      "text/plain": [
       "<Figure size 432x288 with 1 Axes>"
      ]
     },
     "metadata": {},
     "output_type": "display_data"
    }
   ],
   "source": [
    "# plot the KM estimate\n",
    "kmf.plot()\n",
    "# Add title and y-axis label\n",
    "plt.title(\"The Kaplan-Meier Estimate for Drafted NFL Players\\n(2007-2017)\")\n",
    "plt.ylabel(\"Probability a Player is Still Active\")\n",
    "plt.show()"
   ]
  },
  {
   "cell_type": "code",
   "execution_count": 323,
   "metadata": {},
   "outputs": [
    {
     "data": {
      "text/plain": [
       "array(['QB', 'WR', 'T', 'DE', 'DB', 'RB', 'DT', 'LB', 'G', 'TE', 'C', 'P',\n",
       "       'K', 'FB', 'OL', 'DL', 'NT', 'OLB', 'CB', 'FS', 'ILB', 'SS', 'S',\n",
       "       'LS'], dtype=object)"
      ]
     },
     "execution_count": 323,
     "metadata": {},
     "output_type": "execute_result"
    }
   ],
   "source": [
    "draft_df.Pos.unique() # check out all the different positions"
   ]
  },
  {
   "cell_type": "code",
   "execution_count": 324,
   "metadata": {},
   "outputs": [
    {
     "data": {
      "text/plain": [
       "DB     421\n",
       "WR     354\n",
       "LB     276\n",
       "DE     248\n",
       "RB     242\n",
       "DT     215\n",
       "T      205\n",
       "TE     163\n",
       "G      141\n",
       "QB     128\n",
       "CB      87\n",
       "C       63\n",
       "OLB     56\n",
       "OL      40\n",
       "S       31\n",
       "ILB     23\n",
       "K       22\n",
       "FB      19\n",
       "P       18\n",
       "SS      13\n",
       "FS      12\n",
       "NT      11\n",
       "DL       6\n",
       "LS       3\n",
       "Name: Pos, dtype: int64"
      ]
     },
     "execution_count": 324,
     "metadata": {},
     "output_type": "execute_result"
    }
   ],
   "source": [
    "draft_df.Pos.value_counts() # get a count for each position"
   ]
  },
  {
   "cell_type": "code",
   "execution_count": 325,
   "metadata": {},
   "outputs": [],
   "source": [
    "# Relabel/Merge some of the positions\n",
    "# Set all HBs to RB\n",
    "draft_df.loc[draft_df.Pos == \"HB\", \"Pos\"] = \"RB\"\n",
    "\n",
    "# Set all Safeties and Cornernbacks to DBs\n",
    "draft_df.loc[draft_df.Pos.isin([\"SS\", \"FS\", \"S\", \"CB\"]), \"Pos\"] = \"DB\"\n",
    "\n",
    "# Set all types of Linebackers to LB\n",
    "draft_df.loc[draft_df.Pos.isin([\"OLB\", \"ILB\"]), \"Pos\"] = \"LB\""
   ]
  },
  {
   "cell_type": "code",
   "execution_count": 326,
   "metadata": {},
   "outputs": [],
   "source": [
    "# drop players from the following positions [FL, E, WB, KR, LS, OL]\n",
    "# get the row indices for players with undesired postions\n",
    "idx = draft_df.Pos.isin([\"FL\", \"E\", \"WB\", \"KR\", \"LS\", \"DL\", \"OL\"])\n",
    "# keep the players that don't have the above positions\n",
    "draft_df_2 = draft_df.loc[~idx, :]"
   ]
  },
  {
   "cell_type": "code",
   "execution_count": 327,
   "metadata": {},
   "outputs": [
    {
     "data": {
      "text/plain": [
       "15"
      ]
     },
     "execution_count": 327,
     "metadata": {},
     "output_type": "execute_result"
    }
   ],
   "source": [
    "# check the number of positions in order to decide\n",
    "# on the plotting grid dimiensions\n",
    "len(draft_df_2.Pos.unique())"
   ]
  },
  {
   "cell_type": "code",
   "execution_count": 361,
   "metadata": {},
   "outputs": [
    {
     "data": {
      "image/png": "[encoded data removed]",
      "text/plain": [
       "<Figure size 864x1080 with 15 Axes>"
      ]
     },
     "metadata": {},
     "output_type": "display_data"
    }
   ],
   "source": [
    "# create a new KMF object\n",
    "kmf_by_pos = KaplanMeierFitter()\n",
    "\n",
    "duration = draft_df_2.duration\n",
    "observed = draft_df_2.retired\n",
    "\n",
    "# Set the order that the positions will be plotted\n",
    "positions = [\"QB\", \"RB\", \"WR\",\n",
    "             \"TE\", \"T\", \"G\", \n",
    "             \"C\", \"DE\", \"DT\", \n",
    "             \"NT\", \"LB\", \"DB\",\n",
    "             \"FB\", \"K\", \"P\"]\n",
    "\n",
    "# Set up the the 5x3 plotting grid by creating figure and axes objects\n",
    "# Set sharey to True so that each row of plots share the left most y-axis labels\n",
    "fig, axes = plt.subplots(nrows = 5, ncols = 3, sharey = True,\n",
    "                         figsize=(12,15))\n",
    "\n",
    "# flatten() creates a 1-D array of the individual axes (or subplots)\n",
    "# that we will plot on in our grid\n",
    "# We zip together the two 1-D arrays containing the positions and axes\n",
    "# so we can iterate over each postion and plot its KM estimate onto \n",
    "# its respective axes\n",
    "for pos, ax in zip(positions, axes.flatten()):\n",
    "    # get indices for players with the matching position label\n",
    "    idx = draft_df_2.Pos == pos\n",
    "    # fit the kmf for the those players\n",
    "    kmf_by_pos.fit(duration[idx], observed[idx])\n",
    "    # plot the KM estimate for that position on its respective axes\n",
    "    kmf_by_pos.plot(ax=ax, legend=False)\n",
    "    # place text indicating the median for the position\n",
    "    # the xy-coord passed in represents the fractional value for each axis\n",
    "    # for example (.5, .5) places text at the center of the plot\n",
    "    ax.annotate(\"Median = {:.0f} yrs\".format(kmf_by_pos.median_), xy = (.47, .85), \n",
    "                xycoords = \"axes fraction\")\n",
    "    # get rid the default \"timeline\" x-axis label set by kmf.plot() \n",
    "    ax.set_xlabel(\"\")\n",
    "    # label each plot by its position\n",
    "    ax.set_title(pos)\n",
    "    # set a common x and y axis across all plots\n",
    "    ax.set_xlim(0,25)\n",
    "    ax.set_ylim(0,1)\n",
    "\n",
    "# tighten up the padding for the subplots\n",
    "fig.tight_layout()\n",
    "\n",
    "# https://stackoverflow.com/questions/16150819/common-xlabel-ylabel-for-matplotlib-subplots\n",
    "# set a common x-axis label\n",
    "fig.text(0.5, -0.01, \"Timeline (Years)\", ha=\"center\")\n",
    "# set a common y-axis label\n",
    "fig.text(-0.01, 0.5, \"Probability That a Player is Still Active\", \n",
    "         va=\"center\", rotation=\"vertical\")\n",
    "# add the title for the whole plot\n",
    "fig.suptitle(\"Survival Curve for each NFL Position\\n(Players Drafted from 1967-2015)\",\n",
    "             fontsize=20)\n",
    "# add some padding between the title and the rest of the plot to avoid overlap\n",
    "fig.subplots_adjust(top=0.92)\n",
    "\n",
    "plt.show()"
   ]
  },
  {
   "cell_type": "code",
   "execution_count": 329,
   "metadata": {},
   "outputs": [
    {
     "data": {
      "text/html": [
       "<div>\n",
       "<style scoped>\n",
       "    .dataframe tbody tr th:only-of-type {\n",
       "        vertical-align: middle;\n",
       "    }\n",
       "\n",
       "    .dataframe tbody tr th {\n",
       "        vertical-align: top;\n",
       "    }\n",
       "\n",
       "    .dataframe thead th {\n",
       "        text-align: right;\n",
       "    }\n",
       "</style>\n",
       "<table border=\"1\" class=\"dataframe\">\n",
       "  <thead>\n",
       "    <tr style=\"text-align: right;\">\n",
       "      <th></th>\n",
       "      <th>KM_estimate - Conditional time remaining to event</th>\n",
       "    </tr>\n",
       "    <tr>\n",
       "      <th>timeline</th>\n",
       "      <th></th>\n",
       "    </tr>\n",
       "  </thead>\n",
       "  <tbody>\n",
       "    <tr>\n",
       "      <th>0.0</th>\n",
       "      <td>4.0</td>\n",
       "    </tr>\n",
       "    <tr>\n",
       "      <th>1.0</th>\n",
       "      <td>3.0</td>\n",
       "    </tr>\n",
       "    <tr>\n",
       "      <th>2.0</th>\n",
       "      <td>3.0</td>\n",
       "    </tr>\n",
       "    <tr>\n",
       "      <th>3.0</th>\n",
       "      <td>3.0</td>\n",
       "    </tr>\n",
       "    <tr>\n",
       "      <th>4.0</th>\n",
       "      <td>2.0</td>\n",
       "    </tr>\n",
       "    <tr>\n",
       "      <th>5.0</th>\n",
       "      <td>2.0</td>\n",
       "    </tr>\n",
       "    <tr>\n",
       "      <th>6.0</th>\n",
       "      <td>2.0</td>\n",
       "    </tr>\n",
       "    <tr>\n",
       "      <th>7.0</th>\n",
       "      <td>2.0</td>\n",
       "    </tr>\n",
       "    <tr>\n",
       "      <th>8.0</th>\n",
       "      <td>1.0</td>\n",
       "    </tr>\n",
       "    <tr>\n",
       "      <th>9.0</th>\n",
       "      <td>1.0</td>\n",
       "    </tr>\n",
       "    <tr>\n",
       "      <th>10.0</th>\n",
       "      <td>1.0</td>\n",
       "    </tr>\n",
       "    <tr>\n",
       "      <th>11.0</th>\n",
       "      <td>0.0</td>\n",
       "    </tr>\n",
       "  </tbody>\n",
       "</table>\n",
       "</div>"
      ],
      "text/plain": [
       "          KM_estimate - Conditional time remaining to event\n",
       "timeline                                                   \n",
       "0.0                                                     4.0\n",
       "1.0                                                     3.0\n",
       "2.0                                                     3.0\n",
       "3.0                                                     3.0\n",
       "4.0                                                     2.0\n",
       "5.0                                                     2.0\n",
       "6.0                                                     2.0\n",
       "7.0                                                     2.0\n",
       "8.0                                                     1.0\n",
       "9.0                                                     1.0\n",
       "10.0                                                    1.0\n",
       "11.0                                                    0.0"
      ]
     },
     "execution_count": 329,
     "metadata": {},
     "output_type": "execute_result"
    }
   ],
   "source": [
    "kmf._conditional_time_to_event_()"
   ]
  }
 ],
 "metadata": {
  "kernelspec": {
   "display_name": "Python 3",
   "language": "python",
   "name": "python3"
  },
  "language_info": {
   "codemirror_mode": {
    "name": "ipython",
    "version": 3
   },
   "file_extension": ".py",
   "mimetype": "text/x-python",
   "name": "python",
   "nbconvert_exporter": "python",
   "pygments_lexer": "ipython3",
   "version": "3.6.2"
  }
 },
 "nbformat": 4,
 "nbformat_minor": 2
}
